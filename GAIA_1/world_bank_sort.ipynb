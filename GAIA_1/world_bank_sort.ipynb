{
 "cells": [
  {
   "cell_type": "code",
   "execution_count": 3,
   "metadata": {},
   "outputs": [],
   "source": [
    "import fitz  # PyMuPDF\n",
    "import requests\n",
    "import os"
   ]
  },
  {
   "cell_type": "code",
   "execution_count": 4,
   "metadata": {},
   "outputs": [],
   "source": [
    "def extract_text_from_pdf_url(pdf_url, save_dir=\"pdfs\"):\n",
    "    os.makedirs(save_dir, exist_ok=True)\n",
    "    local_path = os.path.join(save_dir, os.path.basename(pdf_url))\n",
    "\n",
    "    if not os.path.exists(local_path):\n",
    "        r = requests.get(pdf_url)\n",
    "        with open(local_path, 'wb') as f:\n",
    "            f.write(r.content)\n",
    "\n",
    "    text = \"\"\n",
    "    with fitz.open(local_path) as doc:\n",
    "        for page in doc:\n",
    "            text += page.get_text()\n",
    "    return text"
   ]
  },
  {
   "cell_type": "code",
   "execution_count": null,
   "metadata": {},
   "outputs": [],
   "source": [
    "df_all[\"Extracted Text\"] = df_all[\"PDF Link\"].apply(lambda url: extract_text_from_pdf_url(url))"
   ]
  }
 ],
 "metadata": {
  "kernelspec": {
   "display_name": "Python (fin_proj)",
   "language": "python",
   "name": "fin_proj"
  },
  "language_info": {
   "codemirror_mode": {
    "name": "ipython",
    "version": 3
   },
   "file_extension": ".py",
   "mimetype": "text/x-python",
   "name": "python",
   "nbconvert_exporter": "python",
   "pygments_lexer": "ipython3",
   "version": "3.11.13"
  },
  "orig_nbformat": 4
 },
 "nbformat": 4,
 "nbformat_minor": 2
}
