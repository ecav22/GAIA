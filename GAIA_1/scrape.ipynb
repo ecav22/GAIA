{
 "cells": [
  {
   "cell_type": "code",
   "metadata": {},
   "source": [
    "import requests\n",
    "import pandas as pd\n",
    "import time  # To be polite to the API\n"
   ],
   "execution_count": null,
   "outputs": []
  },
  {
   "cell_type": "code",
   "metadata": {},
   "source": [
    "\n",
    "def fetch_all_worldbank_documents(query, start_date=None, end_date=None, rows_per_page=100):\n",
    "    \"\"\"Fetch all documents matching a query across all countries and pages.\"\"\"\n",
    "    all_records = []\n",
    "    offset = 0\n",
    "    while True:\n",
    "        base_url = \"https://search.worldbank.org/api/v3/wds\"\n",
    "        params = {\n",
    "            \"format\": \"json\",\n",
    "            \"qterm\": query,\n",
    "            \"rows\": rows_per_page,\n",
    "            \"os\": offset,\n",
    "            \"fl\": \"display_title,docdt,docty,count,repnb,pdfurl\"\n",
    "        }\n",
    "        if start_date:\n",
    "            params[\"strdate\"] = start_date\n",
    "        if end_date:\n",
    "            params[\"enddate\"] = end_date\n",
    "        response = requests.get(base_url, params=params)\n",
    "        data = response.json()\n",
    "        if not data or \"documents\" not in data or not data[\"documents\"]:\n",
    "            break\n",
    "        for d in data[\"documents\"].values():\n",
    "            all_records.append({\n",
    "                \"Title\": d.get(\"display_title\"),\n",
    "                \"Date\": d.get(\"docdt\"),\n",
    "                \"Type\": d.get(\"docty\"),\n",
    "                \"Country\": d.get(\"count\"),\n",
    "                \"Report No\": d.get(\"repnb\"),\n",
    "                \"PDF Link\": d.get(\"pdfurl\")\n",
    "            })\n",
    "        offset += rows_per_page\n",
    "    return pd.DataFrame(all_records)\n"
   ],
   "execution_count": null,
   "outputs": []
  },
  {
   "cell_type": "code",
   "metadata": {},
   "source": [
    "# Example: all solar finance documents from all countries since 2021\n",
    "\n",
    "df_all = fetch_all_worldbank_documents(query=\"solar finance\", start_date=\"2021-01-01\", rows_per_page=100)\n"
   ],
   "execution_count": null,
   "outputs": []
  },
  {
   "cell_type": "code",
   "metadata": {},
   "source": [
    "# Save to CSV\n",
    "df_all.to_csv(\"all_worldbank_solar_finance_docs.csv\", index=False)\n",
    "\n",
    "df_all.head()\n"
   ],
   "execution_count": null,
   "outputs": []
  }
 ],
 "metadata": {
  "kernelspec": {
   "display_name": "Python (fin_proj)",
   "language": "python",
   "name": "fin_proj"
  },
  "language_info": {
   "codemirror_mode": {
    "name": "ipython",
    "version": 3
   },
   "file_extension": ".py",
   "mimetype": "text/x-python",
   "name": "python",
   "nbconvert_exporter": "python",
   "pygments_lexer": "ipython3",
   "version": "3.11.13"
  },
  "orig_nbformat": 4
 },
 "nbformat": 4,
 "nbformat_minor": 2
}